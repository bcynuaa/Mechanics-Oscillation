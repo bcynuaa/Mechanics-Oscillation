{
 "metadata": {
  "language_info": {
   "codemirror_mode": {
    "name": "ipython",
    "version": 3
   },
   "file_extension": ".py",
   "mimetype": "text/x-python",
   "name": "python",
   "nbconvert_exporter": "python",
   "pygments_lexer": "ipython3",
   "version": "3.8.5-final"
  },
  "orig_nbformat": 2,
  "kernelspec": {
   "name": "Python 3.8.5 32-bit",
   "display_name": "Python 3.8.5 32-bit",
   "metadata": {
    "interpreter": {
     "hash": "8bcda323cb9ee9804fa0b87f3ac40e2df11620ff2bd26f747497d089c3a31c19"
    }
   }
  }
 },
 "nbformat": 4,
 "nbformat_minor": 2,
 "cells": [
  {
   "cell_type": "code",
   "execution_count": 98,
   "metadata": {},
   "outputs": [],
   "source": [
    "from sympy import *\n",
    "#导入sympy符号计算第三方库\n",
    "\n",
    "m=symbols('m',positive=True)\n",
    "l=symbols('l',positive=True)\n",
    "k=symbols('k',positive=True)\n",
    "lamda=symbols('lambda',positive=True)\n",
    "omega=symbols('omega',positive=True)\n",
    "t=symbols('t',positive=True)\n",
    "'''定义一些基本符号，如需引入新的符号请在此定义-如命令：\n",
    "x,y=symbols('x y')\n",
    "delta_t=symbols('delta_t',positive=True)\n",
    "xs=symbols('x_1:5')\n",
    "都是合法的'''\n",
    "\n",
    "#以下是初始条件的录入\n",
    "M=Matrix([[2*m,0],[0,2*m*l**2]])\n",
    "K=Matrix([[2*k,-k*l],[-k*l,2*k*l**2]])\n",
    "u_0=Matrix([[l],[0]])\n",
    "u1_0=Matrix([[0],[0]])\n",
    "\n",
    "#下述为计算\n",
    "A=K-M*lamda  \n",
    "Z=K-M*omega**2  #动刚度矩阵\n",
    "H=Z.inv()  #频响函数\n",
    "list_l=solve(det(A),lamda)\n",
    "o1=sqrt(list_l[0])\n",
    "o2=sqrt(list_l[1])\n",
    "o=Matrix([[o1,0],[0,o2]])\n",
    "#求解固有频率\n",
    "A1=K-M*list_l[0]\n",
    "A2=K-M*list_l[1]\n",
    "p1=[-A1[0]/A1[1],1]\n",
    "p2=[-A2[0]/A2[1],1]\n",
    "p=Matrix([p1,p2])\n",
    "p=p.T\n",
    "#求解固有振型\n",
    "cosine=diag(cos(o1*t),cos(o2*t))\n",
    "sine=diag(sin(o1*t),sin(o2*t))\n",
    "o_inv=Matrix([[1/o1,0],[0,1/o2]])\n",
    "result=p.inv()*cosine*p*u_0+p.inv()*sine*o.inv()*p*u1_0"
   ]
  },
  {
   "cell_type": "code",
   "execution_count": 99,
   "metadata": {},
   "outputs": [
    {
     "output_type": "stream",
     "name": "stdout",
     "text": [
      "求解矩阵为Z为：\n"
     ]
    },
    {
     "output_type": "execute_result",
     "data": {
      "text/plain": [
       "Matrix([\n",
       "[2*k - 2*m*omega**2,                         -k*l],\n",
       "[              -k*l, 2*k*l**2 - 2*l**2*m*omega**2]])"
      ],
      "text/latex": "$\\displaystyle \\left[\\begin{matrix}2 k - 2 m \\omega^{2} & - k l\\\\- k l & 2 k l^{2} - 2 l^{2} m \\omega^{2}\\end{matrix}\\right]$"
     },
     "metadata": {},
     "execution_count": 99
    }
   ],
   "source": [
    "print('求解矩阵为Z为：')\n",
    "Z"
   ]
  },
  {
   "cell_type": "code",
   "execution_count": 100,
   "metadata": {},
   "outputs": [
    {
     "output_type": "stream",
     "name": "stdout",
     "text": [
      "频响函数H为：\n"
     ]
    },
    {
     "output_type": "execute_result",
     "data": {
      "text/plain": [
       "Matrix([\n",
       "[(2*k - 2*m*omega**2)/(3*k**2 - 8*k*m*omega**2 + 4*m**2*omega**4),                             k/(3*k**2*l - 8*k*l*m*omega**2 + 4*l*m**2*omega**4)],\n",
       "[             k/(3*k**2*l - 8*k*l*m*omega**2 + 4*l*m**2*omega**4), (2*k - 2*m*omega**2)/(3*k**2*l**2 - 8*k*l**2*m*omega**2 + 4*l**2*m**2*omega**4)]])"
      ],
      "text/latex": "$\\displaystyle \\left[\\begin{matrix}\\frac{2 k - 2 m \\omega^{2}}{3 k^{2} - 8 k m \\omega^{2} + 4 m^{2} \\omega^{4}} & \\frac{k}{3 k^{2} l - 8 k l m \\omega^{2} + 4 l m^{2} \\omega^{4}}\\\\\\frac{k}{3 k^{2} l - 8 k l m \\omega^{2} + 4 l m^{2} \\omega^{4}} & \\frac{2 k - 2 m \\omega^{2}}{3 k^{2} l^{2} - 8 k l^{2} m \\omega^{2} + 4 l^{2} m^{2} \\omega^{4}}\\end{matrix}\\right]$"
     },
     "metadata": {},
     "execution_count": 100
    }
   ],
   "source": [
    "print('频响函数H为：')\n",
    "H"
   ]
  },
  {
   "cell_type": "code",
   "execution_count": 101,
   "metadata": {},
   "outputs": [
    {
     "output_type": "stream",
     "name": "stdout",
     "text": [
      "固有频率分别为：\n"
     ]
    },
    {
     "output_type": "execute_result",
     "data": {
      "text/plain": [
       "Matrix([\n",
       "[sqrt(2)*sqrt(k)/(2*sqrt(m)),                           0],\n",
       "[                          0, sqrt(6)*sqrt(k)/(2*sqrt(m))]])"
      ],
      "text/latex": "$\\displaystyle \\left[\\begin{matrix}\\frac{\\sqrt{2} \\sqrt{k}}{2 \\sqrt{m}} & 0\\\\0 & \\frac{\\sqrt{6} \\sqrt{k}}{2 \\sqrt{m}}\\end{matrix}\\right]$"
     },
     "metadata": {},
     "execution_count": 101
    }
   ],
   "source": [
    "print('固有频率分别为：')\n",
    "o"
   ]
  },
  {
   "cell_type": "code",
   "execution_count": 102,
   "metadata": {},
   "outputs": [
    {
     "output_type": "stream",
     "name": "stdout",
     "text": [
      "固有振型为：\n"
     ]
    },
    {
     "output_type": "execute_result",
     "data": {
      "text/plain": [
       "Matrix([\n",
       "[1/l, -1/l],\n",
       "[  1,    1]])"
      ],
      "text/latex": "$\\displaystyle \\left[\\begin{matrix}\\frac{1}{l} & - \\frac{1}{l}\\\\1 & 1\\end{matrix}\\right]$"
     },
     "metadata": {},
     "execution_count": 102
    }
   ],
   "source": [
    "print('固有振型为：')\n",
    "p"
   ]
  },
  {
   "cell_type": "code",
   "execution_count": 103,
   "metadata": {},
   "outputs": [
    {
     "output_type": "stream",
     "name": "stdout",
     "text": [
      "最终解为：\n"
     ]
    },
    {
     "output_type": "execute_result",
     "data": {
      "text/plain": [
       "Matrix([\n",
       "[ l*(cos(sqrt(2)*sqrt(k)*t/(2*sqrt(m)))/2 + cos(sqrt(6)*sqrt(k)*t/(2*sqrt(m)))/2)],\n",
       "[l*(-cos(sqrt(2)*sqrt(k)*t/(2*sqrt(m)))/2 + cos(sqrt(6)*sqrt(k)*t/(2*sqrt(m)))/2)]])"
      ],
      "text/latex": "$\\displaystyle \\left[\\begin{matrix}l \\left(\\frac{\\cos{\\left(\\frac{\\sqrt{2} \\sqrt{k} t}{2 \\sqrt{m}} \\right)}}{2} + \\frac{\\cos{\\left(\\frac{\\sqrt{6} \\sqrt{k} t}{2 \\sqrt{m}} \\right)}}{2}\\right)\\\\l \\left(- \\frac{\\cos{\\left(\\frac{\\sqrt{2} \\sqrt{k} t}{2 \\sqrt{m}} \\right)}}{2} + \\frac{\\cos{\\left(\\frac{\\sqrt{6} \\sqrt{k} t}{2 \\sqrt{m}} \\right)}}{2}\\right)\\end{matrix}\\right]$"
     },
     "metadata": {},
     "execution_count": 103
    }
   ],
   "source": [
    "print('最终解为：')\n",
    "result"
   ]
  }
 ]
}